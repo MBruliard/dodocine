{
 "cells": [
  {
   "cell_type": "markdown",
   "id": "expensive-september",
   "metadata": {},
   "source": [
    "# Génération automatique de la base de données à partir de sauvegardes CSV\n",
    "### Margaux BRULIARD\n",
    "### 18 mars 2021"
   ]
  },
  {
   "cell_type": "markdown",
   "id": "surprising-registrar",
   "metadata": {},
   "source": [
    "L'ensemble des fichiers sont contenus dans le dossier `save_database`"
   ]
  },
  {
   "cell_type": "code",
   "execution_count": 6,
   "id": "lesbian-campaign",
   "metadata": {},
   "outputs": [],
   "source": [
    "import csv\n",
    "import os\n",
    "import sqlite3 as bdd"
   ]
  },
  {
   "cell_type": "markdown",
   "id": "suspended-plant",
   "metadata": {},
   "source": [
    "On commence par re-créer la base de données `database.db`"
   ]
  },
  {
   "cell_type": "code",
   "execution_count": 31,
   "id": "israeli-contributor",
   "metadata": {},
   "outputs": [
    {
     "name": "stdout",
     "output_type": "stream",
     "text": [
      "La BDD existe déjà. Etes vous sur de vouloir écraser les données ? [Y/n]Y\n"
     ]
    }
   ],
   "source": [
    "path_db = '../database_2.db'\n",
    "\n",
    "# on vérifie si la base de données existe déjà\n",
    "if os.path.exists(path_db):\n",
    "    x = input(\"La BDD existe déjà. Etes vous sur de vouloir écraser les données ? [Y/n]\")\n",
    "    if (x == 'Y'):\n",
    "        os.system('rm ../database_2.db')\n",
    "    else:\n",
    "        exit()\n",
    "# ....\n",
    "\n",
    "os.system(\"touch ../database_2.db\") # creation du fichier\n",
    "connexion = bdd.connect(\"../database_2.db\") # connexion à la base de données\n",
    "curseur = connexion.cursor()"
   ]
  },
  {
   "cell_type": "markdown",
   "id": "forbidden-dancing",
   "metadata": {},
   "source": [
    "On lit le fichier `creation.sql` pour lancer les requêtes dans la base de données"
   ]
  },
  {
   "cell_type": "code",
   "execution_count": 32,
   "id": "declared-circus",
   "metadata": {},
   "outputs": [],
   "source": [
    "queries = None\n",
    "with open('save_database/creation.sql', 'r') as fichier:\n",
    "    queries = fichier.read()\n",
    "# ...\n",
    "curseur.executescript(queries)\n",
    "connexion.commit()"
   ]
  },
  {
   "cell_type": "markdown",
   "id": "radical-particular",
   "metadata": {},
   "source": [
    "Maintenant que les tables sont construites, nous allons pouvoir les remplir"
   ]
  },
  {
   "cell_type": "code",
   "execution_count": 34,
   "id": "brilliant-baseball",
   "metadata": {
    "scrolled": true
   },
   "outputs": [
    {
     "name": "stdout",
     "output_type": "stream",
     "text": [
      "INSERT INTO categories VALUES (1, 'Action')\n"
     ]
    },
    {
     "ename": "IntegrityError",
     "evalue": "UNIQUE constraint failed: categories.id_categorie",
     "output_type": "error",
     "traceback": [
      "\u001b[0;31m---------------------------------------------------------------------------\u001b[0m",
      "\u001b[0;31mIntegrityError\u001b[0m                            Traceback (most recent call last)",
      "\u001b[0;32m<ipython-input-34-dc8c3b496a58>\u001b[0m in \u001b[0;36m<module>\u001b[0;34m\u001b[0m\n\u001b[1;32m     14\u001b[0m                 \u001b[0mquery\u001b[0m \u001b[0;34m=\u001b[0m \u001b[0;34m\"INSERT INTO {} VALUES {}\"\u001b[0m\u001b[0;34m.\u001b[0m\u001b[0mformat\u001b[0m\u001b[0;34m(\u001b[0m\u001b[0mtable\u001b[0m\u001b[0;34m,\u001b[0m \u001b[0mtuple\u001b[0m\u001b[0;34m(\u001b[0m\u001b[0mvalues\u001b[0m\u001b[0;34m)\u001b[0m\u001b[0;34m)\u001b[0m\u001b[0;34m\u001b[0m\u001b[0;34m\u001b[0m\u001b[0m\n\u001b[1;32m     15\u001b[0m                 \u001b[0mprint\u001b[0m\u001b[0;34m(\u001b[0m\u001b[0mquery\u001b[0m\u001b[0;34m)\u001b[0m\u001b[0;34m\u001b[0m\u001b[0;34m\u001b[0m\u001b[0m\n\u001b[0;32m---> 16\u001b[0;31m                 \u001b[0mcurseur\u001b[0m\u001b[0;34m.\u001b[0m\u001b[0mexecute\u001b[0m\u001b[0;34m(\u001b[0m\u001b[0mquery\u001b[0m\u001b[0;34m)\u001b[0m\u001b[0;34m\u001b[0m\u001b[0;34m\u001b[0m\u001b[0m\n\u001b[0m\u001b[1;32m     17\u001b[0m \u001b[0;34m\u001b[0m\u001b[0m\n\u001b[1;32m     18\u001b[0m             \u001b[0;31m# ...\u001b[0m\u001b[0;34m\u001b[0m\u001b[0;34m\u001b[0m\u001b[0;34m\u001b[0m\u001b[0m\n",
      "\u001b[0;31mIntegrityError\u001b[0m: UNIQUE constraint failed: categories.id_categorie"
     ]
    }
   ],
   "source": [
    "table_names = ['categories', 'individus', 'films', 'distribution', 'notes', 'forum', 'users']\n",
    "for table in table_names:\n",
    "    with open('save_database/save_' + table + '.csv', newline='') as csv_file:\n",
    "        csv_reader = csv.reader(csv_file, delimiter=';', quoting=csv.QUOTE_NONNUMERIC)\n",
    "        row_i = 0\n",
    "        for line in csv_reader:\n",
    "            if row_i != 0:\n",
    "                values = line\n",
    "                for i in range(0, len(values)):\n",
    "                    if (type(values[i])) is not str:\n",
    "                        values[i] = int(values[i])\n",
    "\n",
    "                # ...\n",
    "                query = \"INSERT INTO {} VALUES {}\".format(table, tuple(values))\n",
    "                print(query)\n",
    "                curseur.execute(query)\n",
    "\n",
    "            # ...\n",
    "            row_i += 1\n",
    "        # ...\n",
    "        \n",
    "        connexion.commit()    \n",
    "    # ...\n",
    "# ...\n"
   ]
  },
  {
   "cell_type": "markdown",
   "id": "another-uniform",
   "metadata": {},
   "source": [
    "Fermeture de base de données"
   ]
  },
  {
   "cell_type": "code",
   "execution_count": 35,
   "id": "instant-demographic",
   "metadata": {},
   "outputs": [],
   "source": [
    "connexion.close()"
   ]
  },
  {
   "cell_type": "code",
   "execution_count": null,
   "id": "horizontal-nursing",
   "metadata": {},
   "outputs": [],
   "source": [
    "csv_reader = csv.reader(csv_file, delimiter=';')\n",
    "        datas = list(csv_reader)\n",
    "        \n",
    "        # on extrait la 1ere ligne qui correspond aux noms des colonnes\n",
    "        columns = datas[0]\n",
    "        datas = datas[1:]\n",
    "        \n",
    "        # on traite les donnees pour que chaque vide soit considéré comme un 'NULL' dans la bdd\n",
    "        for line in datas:\n",
    "            for i in range(0, len(line)):\n",
    "                if line[i] == '':\n",
    "                    line[i] = 'NULL'\n",
    "                # ...\n",
    "            # ...\n",
    "        # ...\n",
    "        \n",
    "        # maintenant on peut faire des queries\n",
    "        for line in datas:\n",
    "            print(line)\n",
    "            query = \"INSERT INTO {} {} VALUES {}\".format(table, tuple(columns), tuple(line))\n",
    "            curseur.execute(query)\n",
    "        # ..."
   ]
  },
  {
   "cell_type": "code",
   "execution_count": null,
   "id": "worthy-generator",
   "metadata": {},
   "outputs": [],
   "source": [
    "with open(\"save_database/save_categories.csv\", newline='') as csv_file:\n",
    "    csv_reader = csv.reader(csv_file, delimiter=';', quoting=csv.QUOTE_NONNUMERIC)\n",
    "    row_i = 0\n",
    "    for line in csv_reader:\n",
    "        if row_i != 0:\n",
    "            values = line\n",
    "            for i in range(0, len(values)):\n",
    "                if (type(values[i])) is not str:\n",
    "                    values[i] = int(values[i])\n",
    "                \n",
    "            # ...\n",
    "            query = \"INSERT INTO {} VALUES {}\".format('categories', tuple(values))\n",
    "            print(query)\n",
    "            \n",
    "        # ...\n",
    "        row_i += 1\n",
    "    # ...\n",
    "# ...  \n"
   ]
  }
 ],
 "metadata": {
  "kernelspec": {
   "display_name": "Python 3",
   "language": "python",
   "name": "python3"
  },
  "language_info": {
   "codemirror_mode": {
    "name": "ipython",
    "version": 3
   },
   "file_extension": ".py",
   "mimetype": "text/x-python",
   "name": "python",
   "nbconvert_exporter": "python",
   "pygments_lexer": "ipython3",
   "version": "3.8.5"
  }
 },
 "nbformat": 4,
 "nbformat_minor": 5
}
