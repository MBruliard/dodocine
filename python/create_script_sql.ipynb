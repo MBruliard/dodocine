{
 "cells": [
  {
   "cell_type": "markdown",
   "id": "excess-count",
   "metadata": {},
   "source": [
    "# from csv to sql script"
   ]
  },
  {
   "cell_type": "code",
   "execution_count": 1,
   "id": "hearing-smell",
   "metadata": {},
   "outputs": [],
   "source": [
    "import csv\n",
    "import os"
   ]
  },
  {
   "cell_type": "code",
   "execution_count": 2,
   "id": "sticky-williams",
   "metadata": {},
   "outputs": [],
   "source": [
    "export = \"insertion.sql\"\n",
    "\n",
    "with open('save_database/save_films.csv', newline='') as csvfile:\n",
    "    csv_reader = csv.reader(csvfile, delimiter=\";\")\n",
    "    datas = list(csv_reader)\n",
    "# ...\n",
    "        \n",
    "\n"
   ]
  },
  {
   "cell_type": "code",
   "execution_count": null,
   "id": "laden-compilation",
   "metadata": {},
   "outputs": [],
   "source": []
  }
 ],
 "metadata": {
  "kernelspec": {
   "display_name": "Python 3",
   "language": "python",
   "name": "python3"
  },
  "language_info": {
   "codemirror_mode": {
    "name": "ipython",
    "version": 3
   },
   "file_extension": ".py",
   "mimetype": "text/x-python",
   "name": "python",
   "nbconvert_exporter": "python",
   "pygments_lexer": "ipython3",
   "version": "3.8.5"
  }
 },
 "nbformat": 4,
 "nbformat_minor": 5
}
