{
 "cells": [
  {
   "cell_type": "markdown",
   "id": "stuffed-capital",
   "metadata": {},
   "source": [
    "création de la table favoris"
   ]
  },
  {
   "cell_type": "code",
   "execution_count": 1,
   "id": "lightweight-police",
   "metadata": {},
   "outputs": [],
   "source": [
    "import csv\n",
    "import sqlite3 as bdd\n",
    "from os.path import exists\n",
    "from os import system\n",
    "from random import randint"
   ]
  },
  {
   "cell_type": "code",
   "execution_count": null,
   "id": "interesting-acquisition",
   "metadata": {},
   "outputs": [],
   "source": []
  }
 ],
 "metadata": {
  "kernelspec": {
   "display_name": "Python 3",
   "language": "python",
   "name": "python3"
  },
  "language_info": {
   "codemirror_mode": {
    "name": "ipython",
    "version": 3
   },
   "file_extension": ".py",
   "mimetype": "text/x-python",
   "name": "python",
   "nbconvert_exporter": "python",
   "pygments_lexer": "ipython3",
   "version": "3.8.5"
  }
 },
 "nbformat": 4,
 "nbformat_minor": 5
}
