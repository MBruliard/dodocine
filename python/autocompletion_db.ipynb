{
 "cells": [
  {
   "cell_type": "markdown",
   "id": "joint-abraham",
   "metadata": {},
   "source": [
    "# Gestion automatique des données \n",
    "## Projet Programmation Web\n",
    "### Nahida BENHAFFAF - Margaux BRULIARD"
   ]
  },
  {
   "cell_type": "markdown",
   "id": "czech-victory",
   "metadata": {},
   "source": [
    "Nous cherchons ici à récupérer les informations de plusieurs films contenues dans un fichiers d'extension csv fourni pour le projet.\n",
    "\n",
    "Nous souhaitons extraire en plus des données de films:\n",
    "   * Les catégories de films\n",
    "   * les noms des acteurs/réalisateurs\n",
    "afin de générer plus simplement les tables associées dans notre base de données\n",
    " \n",
    "A l'issu de notre programme, nous souhaitons pouvoir insérer automatiquement les données trouvées dans notre base de données à l'aide de requêtes SQL"
   ]
  },
  {
   "cell_type": "markdown",
   "id": "fitting-regular",
   "metadata": {},
   "source": [
    "-----\n",
    "### <font color=\"blue\">Importation des modules Python</font>"
   ]
  },
  {
   "cell_type": "code",
   "execution_count": 1,
   "id": "foster-wellington",
   "metadata": {},
   "outputs": [],
   "source": [
    "import pandas as pd\n",
    "import csv\n",
    "import sqlite3 as bdd\n",
    "from os.path import exists\n",
    "from os import system\n",
    "from random import randint"
   ]
  },
  {
   "cell_type": "markdown",
   "id": "accessory-deposit",
   "metadata": {},
   "source": [
    "----\n",
    "### <font color=\"blue\">Extraction des données contenues dans film.csv</font>"
   ]
  },
  {
   "cell_type": "code",
   "execution_count": 2,
   "id": "excess-calendar",
   "metadata": {},
   "outputs": [
    {
     "name": "stdout",
     "output_type": "stream",
     "text": [
      "Nom des colonnes :  ['Year', 'Length', 'Title', 'Subject', 'Actor', 'Actress', 'Director', 'Popularity', 'Awards', '*Image']\n"
     ]
    }
   ],
   "source": [
    "reader = pd.read_csv(\"../../film.csv\", sep=';', header=0)\n",
    "extract = reader.to_dict(orient='split')\n",
    "\n",
    "columns_name = extract['columns'] # nom des colonnes\n",
    "datas = extract['data'][1:] # Les données sur les films en enlevant la 1ere ligne qui correspond au type de donnée\n",
    "\n",
    "print(\"Nom des colonnes : \", columns_name)"
   ]
  },
  {
   "cell_type": "markdown",
   "id": "bearing-oxford",
   "metadata": {},
   "source": [
    "On sélectionne ensuite parmi l'ensemble des films une vingtaine d'entre eux"
   ]
  },
  {
   "cell_type": "code",
   "execution_count": 3,
   "id": "daily-farmer",
   "metadata": {},
   "outputs": [],
   "source": [
    "fl = 121 # premiere ligne sélectionnée\n",
    "n = 22 # nbr de lignes selectionnées\n",
    "\n",
    "train = list()\n",
    "if (fl + n > len(datas)):\n",
    "    print(\"ERREUR: Vous ne pouvez pas sélectionner ces lignes ...\")\n",
    "else:\n",
    "    train = datas[fl:n+fl]\n",
    "# ..."
   ]
  },
  {
   "cell_type": "markdown",
   "id": "determined-pregnancy",
   "metadata": {},
   "source": [
    "Aperçu des données:"
   ]
  },
  {
   "cell_type": "code",
   "execution_count": 4,
   "id": "informative-topic",
   "metadata": {},
   "outputs": [
    {
     "name": "stdout",
     "output_type": "stream",
     "text": [
      "Dates de parution des films:  ['1970', '1990', '1945', '1942', '1982', '1985', '1972', '1975', '1988', '1989', '1977', '1971', '1948', '1944', '1978', '1935']\n"
     ]
    }
   ],
   "source": [
    "years = list()\n",
    "for f in train:\n",
    "    years.append(f[0])\n",
    "# ...\n",
    "print(\"Dates de parution des films: \", list(set(years)))"
   ]
  },
  {
   "cell_type": "markdown",
   "id": "upset-south",
   "metadata": {},
   "source": [
    "----\n",
    "### <font color=\"blue\">Liste des catégories</font>"
   ]
  },
  {
   "cell_type": "code",
   "execution_count": 5,
   "id": "southern-insider",
   "metadata": {},
   "outputs": [
    {
     "name": "stdout",
     "output_type": "stream",
     "text": [
      "Liste des catégories  ['Action', 'Adventure', 'Comedy', 'Crime', 'Drama', 'Fantasy', 'Horror', 'Music', 'Mystery', 'Romance', 'Science Fiction', 'Short', 'War', 'Western', 'Westerns']\n",
      "nombre de catégories:  15\n"
     ]
    }
   ],
   "source": [
    "categories = list()\n",
    "for film in datas:\n",
    "    categories.append(film[3])\n",
    "# ...\n",
    "categories = list(set(categories))\n",
    "\n",
    "# on supprime nan\n",
    "for cat in categories:\n",
    "    if type(cat) is not str:\n",
    "        categories.remove(cat)\n",
    "    # ...\n",
    "# ...\n",
    "categories.sort()\n",
    "print(\"Liste des catégories \", categories)\n",
    "print(\"nombre de catégories: \", len(categories))"
   ]
  },
  {
   "cell_type": "markdown",
   "id": "norman-wayne",
   "metadata": {},
   "source": [
    "Une version française de la liste"
   ]
  },
  {
   "cell_type": "code",
   "execution_count": 6,
   "id": "ongoing-indian",
   "metadata": {},
   "outputs": [
    {
     "name": "stdout",
     "output_type": "stream",
     "text": [
      "Verification du dictionnaire des categories:  {'Action': 1, 'Adventure': 2, 'Comedy': 3, 'Crime': 4, 'Drama': 5, 'Fantasy': 6, 'Horror': 7, 'Music': 8, 'Mystery': 9, 'Romance': 10, 'Science Fiction': 11, 'Short': 12, 'War': 13, 'Western': 14, 'Westerns': 14}\n"
     ]
    }
   ],
   "source": [
    "fr_cat = ['Action', 'Aventure', 'Comédie', 'Policier', 'Drame', 'Fantastique', 'Horreur', 'Musical', 'Mystère',\n",
    "         'Romance', 'Science Fiction', 'Court-Métrage', 'Guerre', 'Western']\n",
    "\n",
    "# on créé un dictionnaire pour gérer les id lors de la création de la table\n",
    "categories.remove('Westerns')\n",
    "\n",
    "dic_cat = {}\n",
    "ind = 1\n",
    "for cat in categories:\n",
    "    dic_cat[cat] = ind\n",
    "    ind += 1\n",
    "# ...\n",
    "\n",
    "# on met le même id a Western et Westerns\n",
    "dic_cat['Westerns'] = dic_cat['Western']\n",
    "\n",
    "print(\"Verification du dictionnaire des categories: \", dic_cat)"
   ]
  },
  {
   "cell_type": "markdown",
   "id": "valid-exercise",
   "metadata": {},
   "source": [
    "----\n",
    "### <font color=\"blue\">Liste des acteurs/réalisateurs</font>"
   ]
  },
  {
   "cell_type": "code",
   "execution_count": 7,
   "id": "worth-antibody",
   "metadata": {},
   "outputs": [
    {
     "name": "stdout",
     "output_type": "stream",
     "text": [
      "Liste des individus:  [nan, 'Albaic�n, Rafael', 'Milius, John', 'DeMille, Cecil B.', 'Benatar, Pat', 'Lang, Fritz', 'Beller, Kathleen', 'Mastorakis, Nico', 'Drury, David', 'Bening, Annette', 'Bj�rk, Halvar', 'Robinson, Edward G.', 'Redgrave, Michael', 'Burns, George', 'Rosenberg, Stuart', 'Bennett, Julie', 'Berger, Senta', 'Beecher, Janet', 'Hauser, Wings', 'Wayne, John', 'Gould, Elliott', 'Rush, Richard', 'Belford, Christine', 'Bergen, Candice', 'Bergman, Ingrid', 'Nichols, Mike', 'Boyer, Charles', 'Newman, Paul', 'Blanc, Mel', 'Busey, Gary', 'De Niro, Robert', 'Bauer, Belinda', 'Flanders, Ed', 'Connery, Sean', 'Attenborough, Richard', 'Beck, Kimberly', 'Kingsley, Ben', 'Adolphson, Edvin', 'Nicholson, Jack', 'Taylor, Jud', 'Bennett, Joan', 'Ford, Greg', 'Hackman, Gene', 'Ford, Harrison', 'Pakula, Alan J.', 'Winkler, Irwin', 'Bedelia, Bonnie', 'Beals, Jennifer', 'Berenson, Marisa', 'Wenders, Wim', 'Bergman, Ingmar', 'Cukor, George', 'Cage, Nicolas', 'Belzer, Richard']\n"
     ]
    }
   ],
   "source": [
    "individus = list()\n",
    "for film in train:\n",
    "    individus += film[4:7]\n",
    "# ...\n",
    "individus = list(set(individus))\n",
    "\n",
    "print(\"Liste des individus: \", individus)"
   ]
  },
  {
   "cell_type": "code",
   "execution_count": 8,
   "id": "vulnerable-content",
   "metadata": {},
   "outputs": [
    {
     "name": "stdout",
     "output_type": "stream",
     "text": [
      "nombre d'individus:  53\n",
      "['Albaic�n', 'Rafael']\n"
     ]
    }
   ],
   "source": [
    "individus = individus[1:]\n",
    "\n",
    "print(\"nombre d'individus: \", len(individus))\n",
    "print([st.strip() for st in individus[0].split(',')])"
   ]
  },
  {
   "cell_type": "markdown",
   "id": "indoor-syntax",
   "metadata": {},
   "source": [
    "----\n",
    "### <font color=\"blue\">Construction de la Base de données</font>"
   ]
  },
  {
   "cell_type": "code",
   "execution_count": 9,
   "id": "residential-thread",
   "metadata": {},
   "outputs": [],
   "source": [
    "connexion = bdd.connect(\"../database.db\")"
   ]
  },
  {
   "cell_type": "markdown",
   "id": "under-trading",
   "metadata": {},
   "source": [
    "Mise en place des requêtes à l'aide d'un curseur"
   ]
  },
  {
   "cell_type": "code",
   "execution_count": 10,
   "id": "twenty-circulation",
   "metadata": {},
   "outputs": [],
   "source": [
    "curseur = connexion.cursor()"
   ]
  },
  {
   "cell_type": "markdown",
   "id": "efficient-campbell",
   "metadata": {},
   "source": [
    "----\n",
    "### <font color='red'> ATTENTION : Nettoyage des tables </font>"
   ]
  },
  {
   "cell_type": "code",
   "execution_count": 11,
   "id": "rotary-declaration",
   "metadata": {},
   "outputs": [
    {
     "name": "stdout",
     "output_type": "stream",
     "text": [
      "Voulez vous supprimer les tables de travail (categories, individus, films) ? Les tables seront supprimées dans la BDD et les données irrécupérables [Y/n]Y\n"
     ]
    }
   ],
   "source": [
    "question = input(\"Voulez vous supprimer les tables de travail (categories, individus, films) ? \" \\\n",
    "                 \"Les tables seront supprimées dans la BDD et les données irrécupérables [Y/n]\")\n",
    "if (question == \"Y\"):\n",
    "    curseur.execute('''DROP TABLE forum''')\n",
    "    curseur.execute('''DROP TABLE notes''')\n",
    "    curseur.execute('''DROP TABLE distribution''')\n",
    "    curseur.execute('''DROP TABLE films''')\n",
    "    curseur.execute('''DROP TABLE individus;''')\n",
    "    curseur.execute('''DROP TABLE categories''')\n",
    "    curseur.execute('''DROP TABLE users''')\n",
    "# ..."
   ]
  },
  {
   "cell_type": "code",
   "execution_count": 12,
   "id": "original-choir",
   "metadata": {},
   "outputs": [],
   "source": [
    "creation_queries = list() # liste des requetes de creation de tables dans la BDD"
   ]
  },
  {
   "cell_type": "markdown",
   "id": "posted-vermont",
   "metadata": {},
   "source": [
    "------\n",
    "### <font color=\"blue\">Création de la table Catégories</font>"
   ]
  },
  {
   "cell_type": "code",
   "execution_count": 13,
   "id": "differential-imagination",
   "metadata": {},
   "outputs": [],
   "source": [
    "query = '''CREATE TABLE IF NOT EXISTS categories (\n",
    "    id_categorie INTEGER PRIMARY KEY AUTOINCREMENT UNIQUE, \n",
    "    nom TEXT\n",
    ");'''\n",
    "creation_queries.append(query)\n",
    "\n",
    "curseur.execute(query)\n",
    "connexion.commit()\n",
    "\n",
    "\n",
    "for i in range(len(fr_cat)):\n",
    "    curseur.execute('''INSERT INTO categories (id_categorie, nom) VALUES (?, ?)''', (i+1, fr_cat[i]))\n",
    "# ...\n",
    "connexion.commit()  #Ne pas oublier de valider les modifications"
   ]
  },
  {
   "cell_type": "markdown",
   "id": "occasional-dancing",
   "metadata": {},
   "source": [
    "### <font color=\"blue\">Création de la table Individus</font>\n",
    "On crée la table individus si elle n'existe pas déjà en posant dans l'ordre (id_individu, nom, prenom, pays, annee_naissance, url_photo)"
   ]
  },
  {
   "cell_type": "code",
   "execution_count": 14,
   "id": "undefined-challenge",
   "metadata": {},
   "outputs": [],
   "source": [
    "query = '''CREATE TABLE IF NOT EXISTS individus (\n",
    "    id_individu INTEGER PRIMARY KEY AUTOINCREMENT UNIQUE,\n",
    "    nom TEXT NOT NULL,\n",
    "    prenom TEXT NOT NULL,\n",
    "    pays TEXT,\n",
    "    annee INTEGER CHECK(annee > 0),\n",
    "    photo TEXT\n",
    ");'''\n",
    "creation_queries.append(query)\n",
    "\n",
    "curseur.execute(query)\n",
    "connexion.commit()\n",
    "\n",
    "\n",
    "for ind in individus:\n",
    "    nom, prenom = [st.strip() for st in ind.split(',')]\n",
    "    curseur.execute('''INSERT INTO individus (nom, prenom, pays, annee, photo) VALUES (?, ?, NULL, NULL, NULL)''', (nom, prenom))\n",
    "# ...\n",
    "connexion.commit()"
   ]
  },
  {
   "cell_type": "markdown",
   "id": "extensive-wallace",
   "metadata": {},
   "source": [
    "On note que ce cette façon on obtient pour id_individu (qui est incrémenté automatique), id_individu = i + 1, pour i l'indice de l'individu dans la liste individus"
   ]
  },
  {
   "cell_type": "markdown",
   "id": "metric-drunk",
   "metadata": {},
   "source": [
    "### <font color=\"blue\">Création de la table Films</font>"
   ]
  },
  {
   "cell_type": "code",
   "execution_count": 15,
   "id": "collectible-calculation",
   "metadata": {},
   "outputs": [],
   "source": [
    "query = '''CREATE TABLE IF NOT EXISTS films (\n",
    "    id_film INTEGER PRIMARY KEY AUTOINCREMENT UNIQUE,\n",
    "    titre TEXT NOT NULL,\n",
    "    duree TEXT,\n",
    "    id_categorie INTEGER,\n",
    "    annee INTEGER CHECK(annee > 0),\n",
    "    pays TEXT,\n",
    "    id_realisateur INTEGER,\n",
    "    photo TEXT,\n",
    "    CONSTRAINT FK_FILM_REAL FOREIGN KEY (id_realisateur) REFERENCES individus (id_individu)\n",
    ");'''\n",
    "creation_queries.append(query)\n",
    "curseur.execute(query)\n",
    "connexion.commit()\n",
    "\n",
    "query = '''CREATE TABLE IF NOT EXISTS distribution(\n",
    "    id_film INTEGER NOT NULL, \n",
    "    id_acteur INTEGER NOT NULL,\n",
    "    CONSTRAINT PK_DISTRIBUTION PRIMARY KEY (id_film, id_acteur),\n",
    "    CONSTRAINT FK_DISTRIBUTION_FILM FOREIGN KEY(id_film) REFERENCES films (id_film),\n",
    "    CONSTRAINT FK_DISTRIBUTION_ACTEUR FOREIGN KEY (id_acteur) REFERENCES individus(id_individu)\n",
    ");'''\n",
    "creation_queries.append(query)\n",
    "curseur.execute(query)\n",
    "\n",
    "# on remplit les tables distribution et film en même temps\n",
    "id_film = 1\n",
    "for film in train:\n",
    "    \n",
    "    # on recupere l'id du réalisateur en le cherchant dans la liste\n",
    "    id_real = 'NULL'\n",
    "    if type(film[6]) is str:\n",
    "        id_real = individus.index(film[6]) + 1\n",
    "    \n",
    "    \n",
    "    # et de meme pour les id des acteurs indiques\n",
    "    id_act1 = 'NULL'\n",
    "    if type(film[4]) is str:\n",
    "        id_act1 = individus.index(film[4]) + 1\n",
    "    \n",
    "    id_act2 = 'NULL'\n",
    "    if type(film[5]) is str:\n",
    "        id_act2 = individus.index(film[5]) + 1\n",
    "    \n",
    "    # et enfin l'id de la categorie\n",
    "    id_cat = 'NULL'\n",
    "    if type(film[3]) is str:\n",
    "        # on cherche l'id correspondant dans le dictionnaire\n",
    "        id_cat = dic_cat[film[3]]\n",
    "    # ...\n",
    "    \n",
    "    annee = 'NULL'\n",
    "    if type(film[0]) is str:\n",
    "        annee = film[0]\n",
    "    # ...\n",
    "    \n",
    "    duree = 'NULL'\n",
    "    if type(film[1]) is str:\n",
    "        duree = film[1]\n",
    "    # ...\n",
    "    \n",
    "    curseur.execute('''INSERT INTO films (titre, duree, id_categorie, annee, pays, id_realisateur, photo)\n",
    "    VALUES (?, ?, ?, ?, NULL, ?, NULL)''', (film[2], duree, id_cat, annee, id_real))\n",
    "    \n",
    "    if not (id_act1 == 'NULL'):\n",
    "        curseur.execute('''INSERT INTO distribution (id_film, id_acteur) VALUES (?, ?)''', (id_film, id_act1))\n",
    "    # ...\n",
    "    \n",
    "    if not (id_act2 == 'NULL'):\n",
    "        curseur.execute('''INSERT INTO distribution (id_film, id_acteur) VALUES (?, ?)''', (id_film, id_act2))\n",
    "    # ...\n",
    "    \n",
    "    id_film += 1\n",
    "# ...\n",
    "connexion.commit()"
   ]
  },
  {
   "cell_type": "markdown",
   "id": "impressed-angola",
   "metadata": {},
   "source": [
    "### Création des tables vides "
   ]
  },
  {
   "cell_type": "code",
   "execution_count": 16,
   "id": "completed-salmon",
   "metadata": {},
   "outputs": [],
   "source": [
    "query = '''CREATE TABLE IF NOT EXISTS users(\n",
    "    pseudo TEXT PRIMARY KEY,\n",
    "    email TEXT UNIQUE NOT NULL,\n",
    "    password TEXT NOT NULL\n",
    ");'''\n",
    "\n",
    "creation_queries.append(query)\n",
    "curseur.execute(query)\n",
    "connexion.commit()\n",
    "\n",
    "query = '''CREATE TABLE IF NOT EXISTS notes (\n",
    "    id_film INTEGER,\n",
    "    id_user TEXT,\n",
    "    note INTEGER CHECK(note BETWEEN 1 AND 5) NOT NULL,\n",
    "    commentaire TEXT,\n",
    "    CONSTRAINT PK_NOTES PRIMARY KEY (id_film, id_user),\n",
    "    CONSTRAINT FK_NOTES_FILM FOREIGN KEY (id_film) REFERENCES films (id_film),\n",
    "    CONSTRAINT FK_NOTES_USER FOREIGN KEY (id_user) REFERENCES users (pseudo)\n",
    ");'''\n",
    "\n",
    "creation_queries.append(query)\n",
    "curseur.execute(query)\n",
    "connexion.commit()\n",
    "\n",
    "query = '''CREATE TABLE IF NOT EXISTS forum (\n",
    "    id_msg INTEGER PRIMARY KEY AUTOINCREMENT,\n",
    "    id_user TEXT NOT NULL,\n",
    "    id_film INTEGER NOT NULL,\n",
    "    id_msg_ans INTEGER,\n",
    "    contenu TEXT,\n",
    "    date TEXT,\n",
    "    CONSTRAINT FK_FORUM_USER FOREIGN KEY (id_user) REFERENCES users (pseudo),\n",
    "    CONSTRAINT FK_FORUM_FILM FOREIGN KEY (id_film) REFERENCES films (id_film),\n",
    "    CONSTRAINT FK_FORUM_REPONSE FOREIGN KEY (id_msg_ans) REFERENCES forum (id_msg)\n",
    ");'''\n",
    "\n",
    "creation_queries.append(query)\n",
    "curseur.execute(query)\n",
    "connexion.commit()"
   ]
  },
  {
   "cell_type": "markdown",
   "id": "lucky-collect",
   "metadata": {},
   "source": [
    "### Test de la base de données créée:\n",
    "Nous cherchons les informations sur le film 1:"
   ]
  },
  {
   "cell_type": "code",
   "execution_count": 17,
   "id": "violent-stamp",
   "metadata": {},
   "outputs": [
    {
     "name": "stdout",
     "output_type": "stream",
     "text": [
      "Affichage des informations obtenues par le fichier .csv:\n",
      " ['1988', '96', 'Split Decisions', 'Drama', 'Hackman, Gene', 'Beals, Jennifer', 'Drury, David', '52', 'No', 'NicholasCage.png']\n"
     ]
    }
   ],
   "source": [
    "print(\"Affichage des informations obtenues par le fichier .csv:\\n\", train[1])"
   ]
  },
  {
   "cell_type": "code",
   "execution_count": 18,
   "id": "protected-sculpture",
   "metadata": {},
   "outputs": [
    {
     "name": "stdout",
     "output_type": "stream",
     "text": [
      "(1988, '96', 'Split Decisions', 'Drame')\n",
      "[('Hackman', 'Gene'), ('Beals', 'Jennifer')]\n"
     ]
    }
   ],
   "source": [
    "curseur.execute('''SELECT annee, duree, titre, categories.nom FROM films \n",
    "                INNER JOIN categories ON categories.id_categorie = films.id_categorie \n",
    "                WHERE id_film = 2''')\n",
    "print(curseur.fetchone())\n",
    "\n",
    "curseur.execute('''SELECT nom, prenom FROM individus \n",
    "                INNER JOIN distribution\n",
    "                ON distribution.id_acteur = individus.id_individu\n",
    "                WHERE id_film = 2''')\n",
    "print(curseur.fetchall())"
   ]
  },
  {
   "cell_type": "markdown",
   "id": "continuous-korean",
   "metadata": {},
   "source": [
    "### Ecriture d'un fichier creation.sql \n",
    "\n",
    "Le fichier contiendra toutes les requetes de création de la base de données. Pour une re-génération de la base de données utérieure\n",
    "\n",
    "Elle sera sauvegardée dans le fichier save_database/creation.sql"
   ]
  },
  {
   "cell_type": "code",
   "execution_count": 19,
   "id": "crazy-wireless",
   "metadata": {},
   "outputs": [],
   "source": [
    "creation_file = open(\"save_database/creation.sql\", \"w\")\n",
    "\n",
    "for q in creation_queries:\n",
    "    creation_file.write(q + '\\n')\n",
    "# ...\n",
    "creation_file.close()"
   ]
  },
  {
   "cell_type": "markdown",
   "id": "outdoor-match",
   "metadata": {},
   "source": [
    "----\n",
    "### Remplissage des tables users, notes et forum\n",
    "\n"
   ]
  },
  {
   "cell_type": "code",
   "execution_count": 20,
   "id": "statewide-banking",
   "metadata": {},
   "outputs": [],
   "source": [
    "pseudos_to_add = ['mbruliard', \n",
    "                  'nbenhaffaf',\n",
    "                  'ProgWebForever',\n",
    "                  'toto',\n",
    "                  'coeurDartichaud', \n",
    "                  'LuckyTheLuc', \n",
    "                  'LaVraieCelineDeVegas', \n",
    "                  'AliceAuPaysDesBretons',\n",
    "                  'JeSuisPersonne',\n",
    "                  'MbappéForever',\n",
    "                  'PotterHead1',\n",
    "                  'jujuCo1n',\n",
    "                  'NotAwrinkle',\n",
    "                  'LeRoiPopCorn12',\n",
    "                  'GrosBolDeRiz <3'                  \n",
    "                 ]\n",
    "\n",
    "# pour toto on place titi\n",
    "# pour ProgWebForever -> 'foughali'\n",
    "mdp_to_add = ['$2y$10$vTkLce23BDKt0c1VHB3Uk.puoDFJZeafu3QgoNmjfJwkM2/oS2Ax2' for i in range(0, len(pseudos_to_add))]\n",
    "mdp_to_add[2] = '$2y$10$S.hJ5XDIJJWvDyE4eQdvZOxmT/cLzENTkLweIbpSSfj6whuMJM7xu' \n",
    "mdp_to_add[3] = '$2y$10$x2haEkjRqsVqzUGeLfooquhn6zNnTT0WzBv4JlShH4UoURQifGfKW'\n",
    "\n",
    "\n",
    "# on remplit la table users\n",
    "for i in range(0, len(pseudos_to_add)):\n",
    "    curseur.execute('''INSERT INTO users (pseudo, email, password)\n",
    "    VALUES (?, ?, ?)''', (pseudos_to_add[i], pseudos_to_add[i].lower() + '@dodo.com', mdp_to_add[i]))\n",
    "# ...\n",
    "connexion.commit()\n"
   ]
  },
  {
   "cell_type": "markdown",
   "id": "peaceful-comparison",
   "metadata": {},
   "source": [
    "---\n",
    "### Remplissage partiel de la table notes\n",
    "\n",
    "On va récupérer la valeur `popularity` dans `films.csv`.\n",
    "\n",
    "On tire aléatoirement les pseudos des utilisateurs qui noteront un film. Puis pour chacun d'entre eux on tire aléatoirement une note entre 1 et 5"
   ]
  },
  {
   "cell_type": "code",
   "execution_count": 21,
   "id": "floral-toyota",
   "metadata": {},
   "outputs": [],
   "source": [
    "id_film = 1\n",
    "for film in train:\n",
    "    \n",
    "    for pseudo in pseudos_to_add:\n",
    "        has_noted = randint(0,1)\n",
    "        if has_noted :\n",
    "            note = randint(1, 5)\n",
    "            curseur.execute('''INSERT INTO notes (id_film, id_user, note, commentaire) VALUES (?, ?, ?, ?)''', \n",
    "                            (id_film, pseudo, note, ''))\n",
    "        # ...\n",
    "    # ...        \n",
    "    connexion.commit()\n",
    "    id_film += 1\n",
    "# ..."
   ]
  },
  {
   "cell_type": "markdown",
   "id": "continued-place",
   "metadata": {},
   "source": [
    "### Générer des fichiers csv pour sauvegarder les données de la base de données\n",
    "\n",
    "On génère la sauvegarde pour toutes les tables de la base de données à l'exception de la table <font color=\"green\">utilisateurs</font> qui elle est construite manuellement et est donc sauvegardé par défaut"
   ]
  },
  {
   "cell_type": "code",
   "execution_count": 22,
   "id": "beneficial-juvenile",
   "metadata": {},
   "outputs": [],
   "source": [
    "table_names = ['categories', 'individus', 'films', 'distribution', 'users', 'notes', 'forum']\n",
    "\n",
    "for table in table_names:\n",
    "    curseur.execute(\"SELECT * FROM \" + table + \";\")\n",
    "    with open(\"save_database/save_\" + table + \".csv\", \"w\", newline='') as csv_file:\n",
    "        csv_writer = csv.writer(csv_file, delimiter=';')\n",
    "        csv_writer.writerow([i[0] for i in curseur.description]) # write headers\n",
    "        csv_writer.writerows(curseur)\n",
    "    # ...\n",
    "# ..."
   ]
  },
  {
   "cell_type": "markdown",
   "id": "elder-ghana",
   "metadata": {},
   "source": [
    "Fermeture de la base de données et du fichier de création de la BDD"
   ]
  },
  {
   "cell_type": "code",
   "execution_count": 23,
   "id": "cathedral-toner",
   "metadata": {},
   "outputs": [],
   "source": [
    "connexion.close()"
   ]
  },
  {
   "cell_type": "code",
   "execution_count": null,
   "id": "waiting-liquid",
   "metadata": {},
   "outputs": [],
   "source": []
  }
 ],
 "metadata": {
  "kernelspec": {
   "display_name": "Python 3",
   "language": "python",
   "name": "python3"
  },
  "language_info": {
   "codemirror_mode": {
    "name": "ipython",
    "version": 3
   },
   "file_extension": ".py",
   "mimetype": "text/x-python",
   "name": "python",
   "nbconvert_exporter": "python",
   "pygments_lexer": "ipython3",
   "version": "3.8.5"
  }
 },
 "nbformat": 4,
 "nbformat_minor": 5
}
